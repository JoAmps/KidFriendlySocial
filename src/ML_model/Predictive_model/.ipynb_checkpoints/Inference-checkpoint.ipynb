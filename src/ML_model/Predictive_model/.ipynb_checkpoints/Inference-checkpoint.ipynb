{
 "cells": [
  {
   "cell_type": "code",
   "execution_count": 1,
   "id": "04c0bf25",
   "metadata": {},
   "outputs": [],
   "source": [
    "from transformers import pipeline\n",
    "import re"
   ]
  },
  {
   "cell_type": "code",
   "execution_count": 7,
   "id": "56e5fd91",
   "metadata": {},
   "outputs": [],
   "source": [
    "tokenizer = 'vinai/bertweet-base'\n",
    "model = r'D:\\Portfolio\\Improving the contents of tweets using BERT and GPT\\src\\ML model\\Predictive_model\\model\\trained_models\\bad_language_tweets_detector'"
   ]
  },
  {
   "cell_type": "code",
   "execution_count": 8,
   "id": "0e4ccaa0",
   "metadata": {},
   "outputs": [
    {
     "name": "stderr",
     "output_type": "stream",
     "text": [
      "Special tokens have been added in the vocabulary, make sure the associated word embeddings are fine-tuned or trained.\n"
     ]
    }
   ],
   "source": [
    "classification_text_only = pipeline(\n",
    "    \"text-classification\", model=model,\n",
    "    tokenizer=tokenizer\n",
    "    )"
   ]
  },
  {
   "cell_type": "code",
   "execution_count": 9,
   "id": "76f77e46",
   "metadata": {},
   "outputs": [],
   "source": [
    "def twitter_clean(x):\n",
    "    \"\"\"\n",
    "    Cleans the tweets\n",
    "    Input\n",
    "    ------\n",
    "    x : str\n",
    "        Raw tweets\n",
    "    Returns\n",
    "    -------\n",
    "    x: str\n",
    "       Cleaned tweets\n",
    "    \"\"\"\n",
    "    x = x.lower()\n",
    "    x = x.encode('ascii', 'ignore').decode('unicode_escape')\n",
    "    x = re.sub(r'http*\\S+', ' ', x)\n",
    "    x = re.sub(r'\\xa0', ' ', x)\n",
    "    x = re.sub(r'&amp', ' ', x)\n",
    "    x = re.sub(r'&gt', ' ', x)\n",
    "    x = re.sub('@[\\w]+','',x)\n",
    "    return x"
   ]
  },
  {
   "cell_type": "code",
   "execution_count": 10,
   "id": "6c0c6d5e",
   "metadata": {},
   "outputs": [
    {
     "name": "stdout",
     "output_type": "stream",
     "text": [
      "[{'label': 'LABEL_0', 'score': 0.9767300486564636}]\n"
     ]
    }
   ],
   "source": [
    "text=twitter_clean(\"What the fuck is wrong with you?\")\n",
    "classifier = classification_text_only(text)\n",
    "print(classifier)"
   ]
  },
  {
   "cell_type": "code",
   "execution_count": 15,
   "id": "312554bf",
   "metadata": {},
   "outputs": [
    {
     "data": {
      "text/plain": [
       "0.9767300486564636"
      ]
     },
     "execution_count": 15,
     "metadata": {},
     "output_type": "execute_result"
    }
   ],
   "source": [
    "classifier[0]['score']"
   ]
  },
  {
   "cell_type": "code",
   "execution_count": 24,
   "id": "fc61dd8a",
   "metadata": {},
   "outputs": [
    {
     "name": "stderr",
     "output_type": "stream",
     "text": [
      "Special tokens have been added in the vocabulary, make sure the associated word embeddings are fine-tuned or trained.\n"
     ]
    },
    {
     "name": "stdout",
     "output_type": "stream",
     "text": [
      "Tweet contains bad language with a 0.7711799144744873 probability\n"
     ]
    }
   ],
   "source": [
    "def load_model_and_tokenizer(tokenizer, model):\n",
    "    \"\"\"\n",
    "    Loads tokenizer and model\n",
    "    Input\n",
    "    ------\n",
    "    tokenizer : hugging face module\n",
    "    model : hugging face module \n",
    "    Returns\n",
    "    -------\n",
    "    classification_text_features : pipeline\n",
    "                                   prediction pipeline\n",
    "    \"\"\"\n",
    "    classification_text_only = pipeline(\n",
    "    \"text-classification\", model=model,\n",
    "    tokenizer=tokenizer\n",
    "    )\n",
    "    return classification_text_only\n",
    "\n",
    "\n",
    "def twitter_clean(x):\n",
    "    \"\"\"\n",
    "    Cleans the tweets\n",
    "    Input\n",
    "    ------\n",
    "    x : str\n",
    "        Raw tweets\n",
    "    Returns\n",
    "    -------\n",
    "    x: str\n",
    "       Cleaned tweets\n",
    "    \"\"\"\n",
    "    x = x.lower()\n",
    "    x = x.encode('ascii', 'ignore').decode('unicode_escape')\n",
    "    x = re.sub(r'http*\\S+', ' ', x)\n",
    "    x = re.sub(r'\\xa0', ' ', x)\n",
    "    x = re.sub(r'&amp', ' ', x)\n",
    "    x = re.sub(r'&gt', ' ', x)\n",
    "    x = re.sub('@[\\w]+','',x)\n",
    "    return x\n",
    "\n",
    "\n",
    "def predict_text_only(text):\n",
    "    \"\"\"\n",
    "    Takes the text inputs, processes it and returns the like prediction\n",
    "    Input\n",
    "    ------\n",
    "    text : str\n",
    "        input tweet by user\n",
    "    Returns\n",
    "    -------\n",
    "    classifier : dict\n",
    "       predicton result with label and confidence score\n",
    "    \"\"\"\n",
    "    text=twitter_clean(text)\n",
    "    classifier = classification_text_only(text)\n",
    "    if classifier[0]['label'] == 'LABEL_0':\n",
    "        print(f\"Tweet contains bad language with a {classifier[0]['score']} probability\")\n",
    "    else:\n",
    "        print(f\"Tweet contains good language with a {classifier[0]['score']} probability\")\n",
    "\n",
    "if __name__ == '__main__':\n",
    "    classification_text_only  = load_model_and_tokenizer('vinai/bertweet-base', r'D:\\Portfolio\\Improving the contents of tweets using BERT and GPT\\src\\ML model\\Predictive_model\\model\\trained_models\\bad_language_tweets_detector')\n",
    "    predict_text_only(\"Come lemme slap that bitch ass up for you\")"
   ]
  },
  {
   "cell_type": "code",
   "execution_count": null,
   "id": "0e2cf77c",
   "metadata": {},
   "outputs": [],
   "source": []
  }
 ],
 "metadata": {
  "kernelspec": {
   "display_name": "Python 3 (ipykernel)",
   "language": "python",
   "name": "python3"
  },
  "language_info": {
   "codemirror_mode": {
    "name": "ipython",
    "version": 3
   },
   "file_extension": ".py",
   "mimetype": "text/x-python",
   "name": "python",
   "nbconvert_exporter": "python",
   "pygments_lexer": "ipython3",
   "version": "3.8.16"
  }
 },
 "nbformat": 4,
 "nbformat_minor": 5
}
